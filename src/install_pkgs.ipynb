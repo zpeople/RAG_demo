{
 "cells": [
  {
   "cell_type": "code",
   "execution_count": null,
   "id": "12e1cbe8",
   "metadata": {},
   "outputs": [],
   "source": [
    "! pip install --quiet --upgrade langchain langchain-community langchain-chroma  langchain-huggingface"
   ]
  },
  {
   "cell_type": "code",
   "execution_count": null,
   "id": "262a13be",
   "metadata": {},
   "outputs": [],
   "source": [
    "! pip install vllm==0.8.5.post1"
   ]
  },
  {
   "cell_type": "code",
   "execution_count": null,
   "id": "cbc33bbd",
   "metadata": {},
   "outputs": [],
   "source": [
    "import vllm\n",
    "print(vllm.__version__)"
   ]
  },
  {
   "cell_type": "code",
   "execution_count": null,
   "id": "c00a5715",
   "metadata": {},
   "outputs": [],
   "source": [
    "! pip install pypdf"
   ]
  },
  {
   "cell_type": "code",
   "execution_count": null,
   "id": "69ab4584",
   "metadata": {},
   "outputs": [],
   "source": [
    "! pip3 install torch torchvision torchaudio  --index-url https://download.pytorch.org/whl/cu124 "
   ]
  },
  {
   "cell_type": "code",
   "execution_count": null,
   "id": "a4f35883",
   "metadata": {},
   "outputs": [],
   "source": [
    "! pip install ipywidgets"
   ]
  },
  {
   "cell_type": "code",
   "execution_count": 6,
   "id": "28698976",
   "metadata": {},
   "outputs": [
    {
     "name": "stdout",
     "output_type": "stream",
     "text": [
      "Collecting sentence_transformers\n",
      "  Downloading sentence_transformers-5.1.0-py3-none-any.whl.metadata (16 kB)\n",
      "Requirement already satisfied: transformers<5.0.0,>=4.41.0 in c:\\users\\seele\\.conda\\envs\\rag_py\\lib\\site-packages (from sentence_transformers) (4.56.0)\n",
      "Requirement already satisfied: tqdm in c:\\users\\seele\\.conda\\envs\\rag_py\\lib\\site-packages (from sentence_transformers) (4.67.1)\n",
      "Requirement already satisfied: torch>=1.11.0 in c:\\users\\seele\\.conda\\envs\\rag_py\\lib\\site-packages (from sentence_transformers) (2.6.0+cu124)\n",
      "Collecting scikit-learn (from sentence_transformers)\n",
      "  Downloading scikit_learn-1.7.1-cp310-cp310-win_amd64.whl.metadata (11 kB)\n",
      "Requirement already satisfied: scipy in c:\\users\\seele\\.conda\\envs\\rag_py\\lib\\site-packages (from sentence_transformers) (1.15.3)\n",
      "Requirement already satisfied: huggingface-hub>=0.20.0 in c:\\users\\seele\\.conda\\envs\\rag_py\\lib\\site-packages (from sentence_transformers) (0.34.4)\n",
      "Requirement already satisfied: Pillow in c:\\users\\seele\\.conda\\envs\\rag_py\\lib\\site-packages (from sentence_transformers) (11.3.0)\n",
      "Requirement already satisfied: typing_extensions>=4.5.0 in c:\\users\\seele\\.conda\\envs\\rag_py\\lib\\site-packages (from sentence_transformers) (4.15.0)\n",
      "Requirement already satisfied: filelock in c:\\users\\seele\\.conda\\envs\\rag_py\\lib\\site-packages (from transformers<5.0.0,>=4.41.0->sentence_transformers) (3.19.1)\n",
      "Requirement already satisfied: numpy>=1.17 in c:\\users\\seele\\.conda\\envs\\rag_py\\lib\\site-packages (from transformers<5.0.0,>=4.41.0->sentence_transformers) (2.2.6)\n",
      "Requirement already satisfied: packaging>=20.0 in c:\\users\\seele\\.conda\\envs\\rag_py\\lib\\site-packages (from transformers<5.0.0,>=4.41.0->sentence_transformers) (25.0)\n",
      "Requirement already satisfied: pyyaml>=5.1 in c:\\users\\seele\\.conda\\envs\\rag_py\\lib\\site-packages (from transformers<5.0.0,>=4.41.0->sentence_transformers) (6.0.2)\n",
      "Requirement already satisfied: regex!=2019.12.17 in c:\\users\\seele\\.conda\\envs\\rag_py\\lib\\site-packages (from transformers<5.0.0,>=4.41.0->sentence_transformers) (2025.8.29)\n",
      "Requirement already satisfied: requests in c:\\users\\seele\\.conda\\envs\\rag_py\\lib\\site-packages (from transformers<5.0.0,>=4.41.0->sentence_transformers) (2.32.5)\n",
      "Requirement already satisfied: tokenizers<=0.23.0,>=0.22.0 in c:\\users\\seele\\.conda\\envs\\rag_py\\lib\\site-packages (from transformers<5.0.0,>=4.41.0->sentence_transformers) (0.22.0)\n",
      "Requirement already satisfied: safetensors>=0.4.3 in c:\\users\\seele\\.conda\\envs\\rag_py\\lib\\site-packages (from transformers<5.0.0,>=4.41.0->sentence_transformers) (0.6.2)\n",
      "Requirement already satisfied: fsspec>=2023.5.0 in c:\\users\\seele\\.conda\\envs\\rag_py\\lib\\site-packages (from huggingface-hub>=0.20.0->sentence_transformers) (2025.7.0)\n",
      "Requirement already satisfied: networkx in c:\\users\\seele\\.conda\\envs\\rag_py\\lib\\site-packages (from torch>=1.11.0->sentence_transformers) (3.4.2)\n",
      "Requirement already satisfied: jinja2 in c:\\users\\seele\\.conda\\envs\\rag_py\\lib\\site-packages (from torch>=1.11.0->sentence_transformers) (3.1.6)\n",
      "Requirement already satisfied: sympy==1.13.1 in c:\\users\\seele\\.conda\\envs\\rag_py\\lib\\site-packages (from torch>=1.11.0->sentence_transformers) (1.13.1)\n",
      "Requirement already satisfied: mpmath<1.4,>=1.1.0 in c:\\users\\seele\\.conda\\envs\\rag_py\\lib\\site-packages (from sympy==1.13.1->torch>=1.11.0->sentence_transformers) (1.3.0)\n",
      "Requirement already satisfied: colorama in c:\\users\\seele\\.conda\\envs\\rag_py\\lib\\site-packages (from tqdm->sentence_transformers) (0.4.6)\n",
      "Requirement already satisfied: MarkupSafe>=2.0 in c:\\users\\seele\\.conda\\envs\\rag_py\\lib\\site-packages (from jinja2->torch>=1.11.0->sentence_transformers) (3.0.2)\n",
      "Requirement already satisfied: charset_normalizer<4,>=2 in c:\\users\\seele\\.conda\\envs\\rag_py\\lib\\site-packages (from requests->transformers<5.0.0,>=4.41.0->sentence_transformers) (3.4.3)\n",
      "Requirement already satisfied: idna<4,>=2.5 in c:\\users\\seele\\.conda\\envs\\rag_py\\lib\\site-packages (from requests->transformers<5.0.0,>=4.41.0->sentence_transformers) (3.10)\n",
      "Requirement already satisfied: urllib3<3,>=1.21.1 in c:\\users\\seele\\.conda\\envs\\rag_py\\lib\\site-packages (from requests->transformers<5.0.0,>=4.41.0->sentence_transformers) (2.5.0)\n",
      "Requirement already satisfied: certifi>=2017.4.17 in c:\\users\\seele\\.conda\\envs\\rag_py\\lib\\site-packages (from requests->transformers<5.0.0,>=4.41.0->sentence_transformers) (2025.8.3)\n",
      "Collecting joblib>=1.2.0 (from scikit-learn->sentence_transformers)\n",
      "  Downloading joblib-1.5.2-py3-none-any.whl.metadata (5.6 kB)\n",
      "Collecting threadpoolctl>=3.1.0 (from scikit-learn->sentence_transformers)\n",
      "  Using cached threadpoolctl-3.6.0-py3-none-any.whl.metadata (13 kB)\n",
      "Downloading sentence_transformers-5.1.0-py3-none-any.whl (483 kB)\n",
      "Downloading scikit_learn-1.7.1-cp310-cp310-win_amd64.whl (8.9 MB)\n",
      "   ---------------------------------------- 0.0/8.9 MB ? eta -:--:--\n",
      "   ---- ----------------------------------- 1.0/8.9 MB 5.0 MB/s eta 0:00:02\n",
      "   --------- ------------------------------ 2.1/8.9 MB 5.1 MB/s eta 0:00:02\n",
      "   -------------- ------------------------- 3.1/8.9 MB 5.0 MB/s eta 0:00:02\n",
      "   ------------------ --------------------- 4.2/8.9 MB 5.0 MB/s eta 0:00:01\n",
      "   ---------------------- ----------------- 5.0/8.9 MB 4.9 MB/s eta 0:00:01\n",
      "   --------------------------- ------------ 6.0/8.9 MB 4.7 MB/s eta 0:00:01\n",
      "   ------------------------------ --------- 6.8/8.9 MB 4.7 MB/s eta 0:00:01\n",
      "   ---------------------------------- ----- 7.6/8.9 MB 4.6 MB/s eta 0:00:01\n",
      "   ---------------------------------- ----- 7.6/8.9 MB 4.6 MB/s eta 0:00:01\n",
      "   -------------------------------------- - 8.7/8.9 MB 4.3 MB/s eta 0:00:01\n",
      "   ---------------------------------------- 8.9/8.9 MB 4.0 MB/s  0:00:02\n",
      "Downloading joblib-1.5.2-py3-none-any.whl (308 kB)\n",
      "Using cached threadpoolctl-3.6.0-py3-none-any.whl (18 kB)\n",
      "Installing collected packages: threadpoolctl, joblib, scikit-learn, sentence_transformers\n",
      "\n",
      "   ---------- ----------------------------- 1/4 [joblib]\n",
      "   ---------- ----------------------------- 1/4 [joblib]\n",
      "   ---------- ----------------------------- 1/4 [joblib]\n",
      "   ---------- ----------------------------- 1/4 [joblib]\n",
      "   -------------------- ------------------- 2/4 [scikit-learn]\n",
      "   -------------------- ------------------- 2/4 [scikit-learn]\n",
      "   -------------------- ------------------- 2/4 [scikit-learn]\n",
      "   -------------------- ------------------- 2/4 [scikit-learn]\n",
      "   -------------------- ------------------- 2/4 [scikit-learn]\n",
      "   -------------------- ------------------- 2/4 [scikit-learn]\n",
      "   -------------------- ------------------- 2/4 [scikit-learn]\n",
      "   -------------------- ------------------- 2/4 [scikit-learn]\n",
      "   -------------------- ------------------- 2/4 [scikit-learn]\n",
      "   -------------------- ------------------- 2/4 [scikit-learn]\n",
      "   -------------------- ------------------- 2/4 [scikit-learn]\n",
      "   -------------------- ------------------- 2/4 [scikit-learn]\n",
      "   -------------------- ------------------- 2/4 [scikit-learn]\n",
      "   -------------------- ------------------- 2/4 [scikit-learn]\n",
      "   -------------------- ------------------- 2/4 [scikit-learn]\n",
      "   -------------------- ------------------- 2/4 [scikit-learn]\n",
      "   -------------------- ------------------- 2/4 [scikit-learn]\n",
      "   -------------------- ------------------- 2/4 [scikit-learn]\n",
      "   -------------------- ------------------- 2/4 [scikit-learn]\n",
      "   -------------------- ------------------- 2/4 [scikit-learn]\n",
      "   -------------------- ------------------- 2/4 [scikit-learn]\n",
      "   -------------------- ------------------- 2/4 [scikit-learn]\n",
      "   -------------------- ------------------- 2/4 [scikit-learn]\n",
      "   -------------------- ------------------- 2/4 [scikit-learn]\n",
      "   -------------------- ------------------- 2/4 [scikit-learn]\n",
      "   -------------------- ------------------- 2/4 [scikit-learn]\n",
      "   -------------------- ------------------- 2/4 [scikit-learn]\n",
      "   -------------------- ------------------- 2/4 [scikit-learn]\n",
      "   -------------------- ------------------- 2/4 [scikit-learn]\n",
      "   -------------------- ------------------- 2/4 [scikit-learn]\n",
      "   -------------------- ------------------- 2/4 [scikit-learn]\n",
      "   -------------------- ------------------- 2/4 [scikit-learn]\n",
      "   -------------------- ------------------- 2/4 [scikit-learn]\n",
      "   -------------------- ------------------- 2/4 [scikit-learn]\n",
      "   -------------------- ------------------- 2/4 [scikit-learn]\n",
      "   -------------------- ------------------- 2/4 [scikit-learn]\n",
      "   -------------------- ------------------- 2/4 [scikit-learn]\n",
      "   -------------------- ------------------- 2/4 [scikit-learn]\n",
      "   -------------------- ------------------- 2/4 [scikit-learn]\n",
      "   -------------------- ------------------- 2/4 [scikit-learn]\n",
      "   -------------------- ------------------- 2/4 [scikit-learn]\n",
      "   -------------------- ------------------- 2/4 [scikit-learn]\n",
      "   ------------------------------ --------- 3/4 [sentence_transformers]\n",
      "   ------------------------------ --------- 3/4 [sentence_transformers]\n",
      "   ------------------------------ --------- 3/4 [sentence_transformers]\n",
      "   ------------------------------ --------- 3/4 [sentence_transformers]\n",
      "   ------------------------------ --------- 3/4 [sentence_transformers]\n",
      "   ------------------------------ --------- 3/4 [sentence_transformers]\n",
      "   ------------------------------ --------- 3/4 [sentence_transformers]\n",
      "   ---------------------------------------- 4/4 [sentence_transformers]\n",
      "\n",
      "Successfully installed joblib-1.5.2 scikit-learn-1.7.1 sentence_transformers-5.1.0 threadpoolctl-3.6.0\n"
     ]
    }
   ],
   "source": [
    "! pip install sentence_transformers"
   ]
  },
  {
   "cell_type": "code",
   "execution_count": null,
   "id": "e7af6f21",
   "metadata": {},
   "outputs": [],
   "source": []
  }
 ],
 "metadata": {
  "kernelspec": {
   "display_name": "rag_py",
   "language": "python",
   "name": "python3"
  },
  "language_info": {
   "codemirror_mode": {
    "name": "ipython",
    "version": 3
   },
   "file_extension": ".py",
   "mimetype": "text/x-python",
   "name": "python",
   "nbconvert_exporter": "python",
   "pygments_lexer": "ipython3",
   "version": "3.10.18"
  }
 },
 "nbformat": 4,
 "nbformat_minor": 5
}
