{
 "cells": [
  {
   "cell_type": "markdown",
   "id": "63d6077a",
   "metadata": {},
   "source": [
    "加载文件：使用langchain下的document_loaders加载pdf、docs、txt、md等格式文件\n",
    "\n",
    "文本分块：分块的方式有很多，选择不同的分块方法、分块大小、chunk_overlap，对最后的检索结果有影响"
   ]
  },
  {
   "cell_type": "code",
   "execution_count": null,
   "id": "cf4e5100",
   "metadata": {},
   "outputs": [],
   "source": [
    "import os\n",
    "import sys\n",
    "try:\n",
    "    get_ipython\n",
    "    current_dir = os.getcwd()\n",
    "except NameError:\n",
    "    current_dir = os.path.dirname(os.path.abspath(__file__))\n",
    "\n",
    "# Set path，temporary path expansion\n",
    "project_dir = os.path.abspath(os.path.join(current_dir, '..'))\n",
    "if project_dir not in sys.path:\n",
    "    sys.path.append(project_dir)\n",
    "\n",
    "from tool import skip_execution\n",
    "from langchain_community.document_loaders import PyPDFLoader, Docx2txtLoader, UnstructuredFileLoader\n",
    "from langchain_text_splitters import RecursiveCharacterTextSplitter\n",
    "\n",
    "IS_SKIP =True"
   ]
  },
  {
   "cell_type": "code",
   "execution_count": 21,
   "id": "03a55aeb",
   "metadata": {},
   "outputs": [],
   "source": [
    "\n",
    "\n",
    "\n",
    "def load_document(file):\n",
    "    \"\"\"\n",
    "    加载PDF、DOC、TXT文档\n",
    "    :param file:\n",
    "    :return:\n",
    "    \"\"\"\n",
    "    name, extension = os.path.splitext(file)\n",
    "\n",
    "    if extension == '.pdf':\n",
    "        print(f'Loading {file}')\n",
    "        loader = PyPDFLoader(file)\n",
    "    elif extension == '.docx':\n",
    "        print(f'Loading {file}')\n",
    "        loader = Docx2txtLoader(file)\n",
    "    elif extension == '.txt':\n",
    "        loader = UnstructuredFileLoader(file)\n",
    "    else:\n",
    "        print('Document format is not supported!')\n",
    "        return None\n",
    "    data = loader.load()\n",
    "    return data\n",
    "\n",
    "\n",
    "def chunk_data(data, chunk_size=256, chunk_overlap=150):\n",
    "    \"\"\"\n",
    "    将数据分割成块\n",
    "    :param data:\n",
    "    :param chunk_size: chunk块大小\n",
    "    :param chunk_overlap: 重叠部分大小\n",
    "    :return:\n",
    "    \"\"\"\n",
    "    text_splitter = RecursiveCharacterTextSplitter(chunk_size=chunk_size, chunk_overlap=chunk_overlap)\n",
    "    chunks = text_splitter.split_documents(data)\n",
    "    return chunks\n"
   ]
  },
  {
   "cell_type": "code",
   "execution_count": 22,
   "id": "b48aa785",
   "metadata": {},
   "outputs": [
    {
     "name": "stdout",
     "output_type": "stream",
     "text": [
      "/home/zzz/RAG_demo/datasets/test.pdf\n",
      "Loading /home/zzz/RAG_demo/datasets/test.pdf\n",
      "data pages: 17\n"
     ]
    },
    {
     "data": {
      "text/plain": [
       "[Document(metadata={'producer': '', 'creator': 'WPS 文字', 'creationdate': '2024-03-18T10:27:16+02:27', 'author': 'office', 'comments': '', 'company': '', 'keywords': '', 'moddate': '2024-03-18T10:27:16+02:27', 'sourcemodified': \"D:20240318102716+02'27'\", 'subject': '', 'title': '', 'trapped': '/False', 'source': '/home/zzz/RAG_demo/datasets/test.pdf', 'total_pages': 17, 'page': 0, 'page_label': '1'}, page_content='财务报表应用\\n第 5 讲\\n主题：\\n库存计价'),\n",
       " Document(metadata={'producer': '', 'creator': 'WPS 文字', 'creationdate': '2024-03-18T10:27:16+02:27', 'author': 'office', 'comments': '', 'company': '', 'keywords': '', 'moddate': '2024-03-18T10:27:16+02:27', 'sourcemodified': \"D:20240318102716+02'27'\", 'subject': '', 'title': '', 'trapped': '/False', 'source': '/home/zzz/RAG_demo/datasets/test.pdf', 'total_pages': 17, 'page': 1, 'page_label': '2'}, page_content='库存----------销货成本（COGS）\\n（资产负债表 B/S） （损益表 I/S）'),\n",
       " Document(metadata={'producer': '', 'creator': 'WPS 文字', 'creationdate': '2024-03-18T10:27:16+02:27', 'author': 'office', 'comments': '', 'company': '', 'keywords': '', 'moddate': '2024-03-18T10:27:16+02:27', 'sourcemodified': \"D:20240318102716+02'27'\", 'subject': '', 'title': '', 'trapped': '/False', 'source': '/home/zzz/RAG_demo/datasets/test.pdf', 'total_pages': 17, 'page': 2, 'page_label': '3'}, page_content='基本库存等式：\\n期初库存\\n+ 净购买量（生产）\\n待销商品\\n- 期末库存\\n销售成本'),\n",
       " Document(metadata={'producer': '', 'creator': 'WPS 文字', 'creationdate': '2024-03-18T10:27:16+02:27', 'author': 'office', 'comments': '', 'company': '', 'keywords': '', 'moddate': '2024-03-18T10:27:16+02:27', 'sourcemodified': \"D:20240318102716+02'27'\", 'subject': '', 'title': '', 'trapped': '/False', 'source': '/home/zzz/RAG_demo/datasets/test.pdf', 'total_pages': 17, 'page': 3, 'page_label': '4'}, page_content='库存成本核算假设\\n先进先出法（FIFO）成本 - 先生产（购买）的产品的成本是先销售的产品\\n的成本。\\n后进先出法(LIFO)成本 - 后生产（购买）的产品的成本是先销售的产品的\\n成本。\\n加权平均法(Weighted Average)成本 - 使用可供销售的平均成本（BI +\\n生产），然后将成本分配给已售商品成本和期末库存。\\n规格标识(Specification Identification) - 将生产单个产品的实际成\\n本与产品的销售相匹配。（如:豪华车）'),\n",
       " Document(metadata={'producer': '', 'creator': 'WPS 文字', 'creationdate': '2024-03-18T10:27:16+02:27', 'author': 'office', 'comments': '', 'company': '', 'keywords': '', 'moddate': '2024-03-18T10:27:16+02:27', 'sourcemodified': \"D:20240318102716+02'27'\", 'subject': '', 'title': '', 'trapped': '/False', 'source': '/home/zzz/RAG_demo/datasets/test.pdf', 'total_pages': 17, 'page': 4, 'page_label': '5'}, page_content='美国通用会计准则下的库存成本流量假设\\n先进先出法；期末库存 (B/S) 反映当前成本，但销售成本 (I/S) 反\\n映过时成本。\\n后进先出法；销售成本 (I/S) 反映当前成本，但期末库存 (B/S) 反\\n映很久以前购买/生产的物品的成本。\\n平均成本法； 对销售成本 (I/S) 和期末库存 (B/S) 应用相同的平\\n均成本。\\n成本总是在先进先出法和后进先出法之间流动\\n成本或市场较低者 (LOCOM)； 如果期末库存的分配成本（先进先出、\\n后进先出、平均成本）大于库存的市场价值（重置成本），则期末库\\n存必须记入市场。\\n影响：在损益财务报表影响：后进先出法与先进先出法表上记为（损\\n失），在资产负债表上记为库存减少'),\n",
       " Document(metadata={'producer': '', 'creator': 'WPS 文字', 'creationdate': '2024-03-18T10:27:16+02:27', 'author': 'office', 'comments': '', 'company': '', 'keywords': '', 'moddate': '2024-03-18T10:27:16+02:27', 'sourcemodified': \"D:20240318102716+02'27'\", 'subject': '', 'title': '', 'trapped': '/False', 'source': '/home/zzz/RAG_demo/datasets/test.pdf', 'total_pages': 17, 'page': 5, 'page_label': '6'}, page_content='财务报表影响：后进先出法与先进先出法\\n正常价格情况\\n后进先出法的结果： 先进先出法的结果：\\n- 销售成本较高 - 销售成本较低\\n- 毛利润较低 - 毛利润较高\\n- 税收较低 - 税收较高\\n- 净收入较低 - 净收入较高\\n- 库存余额较低 - 库存余额较高\\n- 营运资金较低 - 营运资金较高\\n- 税后现金流量较高 - 税后现金流量较低\\n如果价格下跌（通货紧缩情况），则后进先出法和先进先出法之间的\\n相反关系（如上）成立。'),\n",
       " Document(metadata={'producer': '', 'creator': 'WPS 文字', 'creationdate': '2024-03-18T10:27:16+02:27', 'author': 'office', 'comments': '', 'company': '', 'keywords': '', 'moddate': '2024-03-18T10:27:16+02:27', 'sourcemodified': \"D:20240318102716+02'27'\", 'subject': '', 'title': '', 'trapped': '/False', 'source': '/home/zzz/RAG_demo/datasets/test.pdf', 'total_pages': 17, 'page': 6, 'page_label': '7'}, page_content='库存示例：\\n期初库存 = 3 件 @ 20 美元 = 60 美元\\n购买量 = 4 件 @ 25 美元 = 100美元\\n= 3 件 @ 30 美元 = 90美元\\n待销商品 (GAS) = 10件 = 250 美元\\n销售额 = 9 件 @ 50 美元 = 450 美元\\n运营费用 = 150 美元\\n有效税率 = 30%\\n根据先进先出法、后进先出法和平均成本法计算期末库存、销售成本、\\n毛利润和净利润。'),\n",
       " Document(metadata={'producer': '', 'creator': 'WPS 文字', 'creationdate': '2024-03-18T10:27:16+02:27', 'author': 'office', 'comments': '', 'company': '', 'keywords': '', 'moddate': '2024-03-18T10:27:16+02:27', 'sourcemodified': \"D:20240318102716+02'27'\", 'subject': '', 'title': '', 'trapped': '/False', 'source': '/home/zzz/RAG_demo/datasets/test.pdf', 'total_pages': 17, 'page': 7, 'page_label': '8'}, page_content='示例（续）\\n在价格上涨的情况下： 先进先出法 后进先出法 平均成本法\\n销售额（9 件） $450 $450 $450\\n待销商品（10件） 250 250 250\\n- 期末库存 (1件) 30↑ 20↓ 25\\n= 销货成本 220↓ 230↑ 225\\n毛利润 230 220 225\\n- 运营费用 150 150 150\\n税前收入 80↑ 70↓ 75\\n- 税收 (30%) 24↑ 21↓ 22.50\\n净利润 56 49 52.50'),\n",
       " Document(metadata={'producer': '', 'creator': 'WPS 文字', 'creationdate': '2024-03-18T10:27:16+02:27', 'author': 'office', 'comments': '', 'company': '', 'keywords': '', 'moddate': '2024-03-18T10:27:16+02:27', 'sourcemodified': \"D:20240318102716+02'27'\", 'subject': '', 'title': '', 'trapped': '/False', 'source': '/home/zzz/RAG_demo/datasets/test.pdf', 'total_pages': 17, 'page': 8, 'page_label': '9'}, page_content='比率影响：后进先出法 vs.先进先出法/价格上涨\\n比率类别 先进先出法 后进先出法\\n所有利润率 较高 较低\\n资产回报率* 较高 较低\\n股本回报率* 较高 较低\\n流动比率 较高 较低\\n债务股本比 较低 较高\\n库存周转率 较低 较高 销货成本（较高）\\n库存（较低）\\n* 较高的净利润（分子）比较高的总资产或权益（分母）对该比率的\\n影响更大。\\n假设价格下降（通货紧缩），上述比率效应对于所有类别都将相反。'),\n",
       " Document(metadata={'producer': '', 'creator': 'WPS 文字', 'creationdate': '2024-03-18T10:27:16+02:27', 'author': 'office', 'comments': '', 'company': '', 'keywords': '', 'moddate': '2024-03-18T10:27:16+02:27', 'sourcemodified': \"D:20240318102716+02'27'\", 'subject': '', 'title': '', 'trapped': '/False', 'source': '/home/zzz/RAG_demo/datasets/test.pdf', 'total_pages': 17, 'page': 9, 'page_label': '10'}, page_content='后进先出清偿\\n\\uf06e 后进先出清算是指在一个会计期间内快速消耗库存而不进行重置。\\n\\uf06e 使较旧的过时成本与净销售额相匹配。\\n\\uf06e 它创造了暂时的（虚拟）毛利润增长。\\n\\uf06e 后进先出清算的影响是不可持续的。'),\n",
       " Document(metadata={'producer': '', 'creator': 'WPS 文字', 'creationdate': '2024-03-18T10:27:16+02:27', 'author': 'office', 'comments': '', 'company': '', 'keywords': '', 'moddate': '2024-03-18T10:27:16+02:27', 'sourcemodified': \"D:20240318102716+02'27'\", 'subject': '', 'title': '', 'trapped': '/False', 'source': '/home/zzz/RAG_demo/datasets/test.pdf', 'total_pages': 17, 'page': 10, 'page_label': '11'}, page_content='对财务报表分析的影响\\n\\uf06e 分析师对库存的经济价值和销售成本感兴趣。\\n资产债表 损益表\\n（先进先出法） （后进先出法）\\n\\uf06e 管理层对库存成本计算的选择可能会产生扭曲经济价值的财务报\\n表。\\n\\uf06e 财务报表分析试图消除这些扭曲，以确定公司的内在价值。\\n需要进行同类比较'),\n",
       " Document(metadata={'producer': '', 'creator': 'WPS 文字', 'creationdate': '2024-03-18T10:27:16+02:27', 'author': 'office', 'comments': '', 'company': '', 'keywords': '', 'moddate': '2024-03-18T10:27:16+02:27', 'sourcemodified': \"D:20240318102716+02'27'\", 'subject': '', 'title': '', 'trapped': '/False', 'source': '/home/zzz/RAG_demo/datasets/test.pdf', 'total_pages': 17, 'page': 11, 'page_label': '12'}, page_content='将后进先出法转换为先进先出法以进行比较\\n资产负债表：\\n先进先出法库存 = 后进先出法库存 + 期末后进先出法储备\\n（流动成本）\\n损益表：\\n（期末-期初）\\n先进先出法利润 = 后进先出法利润 +（后进先出法储备变化）X\\n(1 -税率）\\n先进先出法销货成本 = 后进先出法销货成本 - 后进先出法储备\\n变化'),\n",
       " Document(metadata={'producer': '', 'creator': 'WPS 文字', 'creationdate': '2024-03-18T10:27:16+02:27', 'author': 'office', 'comments': '', 'company': '', 'keywords': '', 'moddate': '2024-03-18T10:27:16+02:27', 'sourcemodified': \"D:20240318102716+02'27'\", 'subject': '', 'title': '', 'trapped': '/False', 'source': '/home/zzz/RAG_demo/datasets/test.pdf', 'total_pages': 17, 'page': 12, 'page_label': '13'}, page_content='调整库存 – 示例（A 部分）\\n年末后进先出法库存为 8,000 美元，年底后进先出法储备金为\\n3,000 美元，假设税率为 40%。\\n将后进先出法恢复为先进先出法需要对资产负债表进行以下调整：\\n1) 先进先出法库存的流动成本= 8,000 + 3,000= 11,000美元\\n后进先出法库存 后进先出储备\\n资产负债表条目将库存成本增加 3,000 美元，以获得流动库存成\\n本。\\n2) 增加的递延税负债 = 3,000 X 40% = 1,200美元\\n3) 增加的留存收益 = 3,000 X (1 - .40) = 1,800美元'),\n",
       " Document(metadata={'producer': '', 'creator': 'WPS 文字', 'creationdate': '2024-03-18T10:27:16+02:27', 'author': 'office', 'comments': '', 'company': '', 'keywords': '', 'moddate': '2024-03-18T10:27:16+02:27', 'sourcemodified': \"D:20240318102716+02'27'\", 'subject': '', 'title': '', 'trapped': '/False', 'source': '/home/zzz/RAG_demo/datasets/test.pdf', 'total_pages': 17, 'page': 13, 'page_label': '14'}, page_content='假想的日记账分录\\n借 贷\\n后进先出法储备 3,000美元\\n（存货）\\n递延税款 1,200美元\\n留存收益 1,800美元'),\n",
       " Document(metadata={'producer': '', 'creator': 'WPS 文字', 'creationdate': '2024-03-18T10:27:16+02:27', 'author': 'office', 'comments': '', 'company': '', 'keywords': '', 'moddate': '2024-03-18T10:27:16+02:27', 'sourcemodified': \"D:20240318102716+02'27'\", 'subject': '', 'title': '', 'trapped': '/False', 'source': '/home/zzz/RAG_demo/datasets/test.pdf', 'total_pages': 17, 'page': 14, 'page_label': '15'}, page_content='调整库存 – 示例（B 部分）\\n假设上一年的后进先出法储备金为2,000美元，今年的税后收入\\n是 800美元。\\n先进先出利润 = 后进先出利润 + (Δ后进先出储备) (1–税率)\\n期末后进先出法储备 3,000美元\\n减去：期初后进先出法储备 - 2,000\\n后进先出法储备变化 1,000美元\\n先进先出利润 = 800 + (1,000) X (1 - .40) = 1,400美元\\n后进先出 Δ后进先出 (1–税率)\\n利润 储备'),\n",
       " Document(metadata={'producer': '', 'creator': 'WPS 文字', 'creationdate': '2024-03-18T10:27:16+02:27', 'author': 'office', 'comments': '', 'company': '', 'keywords': '', 'moddate': '2024-03-18T10:27:16+02:27', 'sourcemodified': \"D:20240318102716+02'27'\", 'subject': '', 'title': '', 'trapped': '/False', 'source': '/home/zzz/RAG_demo/datasets/test.pdf', 'total_pages': 17, 'page': 15, 'page_label': '16'}, page_content='后进先出调整课堂练习\\nZeta 公司使用后进先出库存会计方法。20X4 年度财务报表脚注包\\n含截至12月31日的以下数据：\\n20X3 20X4\\n原材料 $ 392,675 $ 369,725\\n成品 401,325 377,075\\n先进先出法库存 $ 794,000 $ 746,800\\n后进先出储备 46,000 50,000\\n后进先出法库存 $ 748,000 $ 696,800\\n以下数据可用：\\n- 该公司的边际税率为35%。\\n- 20X4的销货成本为 3,800,000 美元。\\n- 20X4年的净收入为 340,000 美元。\\n- 20X4年股本回报率为 4.6%。\\na. 使用先进先出库存法，计算Zeta 公司20X4 年的净收入。\\nb. 按先进先出法和后进先出法计算公司的库存周转率。\\nC. 讨论 a 和 b 部分中所做的调整对财务分析师的有用性。\\n资料来源：White、Sondhai、Fried 财务报表分析'),\n",
       " Document(metadata={'producer': '', 'creator': 'WPS 文字', 'creationdate': '2024-03-18T10:27:16+02:27', 'author': 'office', 'comments': '', 'company': '', 'keywords': '', 'moddate': '2024-03-18T10:27:16+02:27', 'sourcemodified': \"D:20240318102716+02'27'\", 'subject': '', 'title': '', 'trapped': '/False', 'source': '/home/zzz/RAG_demo/datasets/test.pdf', 'total_pages': 17, 'page': 16, 'page_label': '17'}, page_content='后进先出调整课堂练习答案\\na. 先进先出法净收入 = 后进先出法净收入 +（后进先出法储备\\n变化）X（1-税率）\\n= 340,000 + 4,000 X .65 = 342,600 美元\\nb. 库存周转率 = 销货成本/平均库存\\n后进先出法：3,800,000 / (748,000 + 696,800) .5 = 5.26X\\n先进先出法：*3,796,000 / (794,000 + 746,800) .5 = 4.93X\\n*先进先出法销货成本 = 后进先出法销货成本 - 储备变化\\n= 3,800,000 - 4,000 = 3,796,000美元\\nC. 为了对公司进行同类比较，分析师可以将后进先出法库存报\\n告转换为先进先出法库存报告。\\n当与使用先进先出法的竞争对手进行比较时，这种非通用会计准\\n则技术提供了公平的竞争环境，调整后的比率现在具有可比性。')]"
      ]
     },
     "execution_count": 22,
     "metadata": {},
     "output_type": "execute_result"
    }
   ],
   "source": [
    "@skip_execution(IS_SKIP)\n",
    "def test_load():\n",
    "    path =os.path.join(project_dir,\"datasets\",\"test.pdf\") \n",
    "\n",
    "    print(os.path.abspath(path))\n",
    "    data = load_document(path)\n",
    "    print(\"data pages:\",len(data))\n",
    "    return data\n",
    "\n",
    "data = test_load()\n",
    "data"
   ]
  },
  {
   "cell_type": "code",
   "execution_count": 23,
   "id": "40558c5c",
   "metadata": {},
   "outputs": [
    {
     "name": "stdout",
     "output_type": "stream",
     "text": [
      "chunks len: 23\n"
     ]
    },
    {
     "data": {
      "text/plain": [
       "[Document(metadata={'producer': '', 'creator': 'WPS 文字', 'creationdate': '2024-03-18T10:27:16+02:27', 'author': 'office', 'comments': '', 'company': '', 'keywords': '', 'moddate': '2024-03-18T10:27:16+02:27', 'sourcemodified': \"D:20240318102716+02'27'\", 'subject': '', 'title': '', 'trapped': '/False', 'source': '/home/zzz/RAG_demo/datasets/test.pdf', 'total_pages': 17, 'page': 0, 'page_label': '1'}, page_content='财务报表应用\\n第 5 讲\\n主题：\\n库存计价'),\n",
       " Document(metadata={'producer': '', 'creator': 'WPS 文字', 'creationdate': '2024-03-18T10:27:16+02:27', 'author': 'office', 'comments': '', 'company': '', 'keywords': '', 'moddate': '2024-03-18T10:27:16+02:27', 'sourcemodified': \"D:20240318102716+02'27'\", 'subject': '', 'title': '', 'trapped': '/False', 'source': '/home/zzz/RAG_demo/datasets/test.pdf', 'total_pages': 17, 'page': 1, 'page_label': '2'}, page_content='库存----------销货成本（COGS）\\n（资产负债表 B/S） （损益表 I/S）'),\n",
       " Document(metadata={'producer': '', 'creator': 'WPS 文字', 'creationdate': '2024-03-18T10:27:16+02:27', 'author': 'office', 'comments': '', 'company': '', 'keywords': '', 'moddate': '2024-03-18T10:27:16+02:27', 'sourcemodified': \"D:20240318102716+02'27'\", 'subject': '', 'title': '', 'trapped': '/False', 'source': '/home/zzz/RAG_demo/datasets/test.pdf', 'total_pages': 17, 'page': 2, 'page_label': '3'}, page_content='基本库存等式：\\n期初库存\\n+ 净购买量（生产）\\n待销商品\\n- 期末库存\\n销售成本'),\n",
       " Document(metadata={'producer': '', 'creator': 'WPS 文字', 'creationdate': '2024-03-18T10:27:16+02:27', 'author': 'office', 'comments': '', 'company': '', 'keywords': '', 'moddate': '2024-03-18T10:27:16+02:27', 'sourcemodified': \"D:20240318102716+02'27'\", 'subject': '', 'title': '', 'trapped': '/False', 'source': '/home/zzz/RAG_demo/datasets/test.pdf', 'total_pages': 17, 'page': 3, 'page_label': '4'}, page_content='库存成本核算假设\\n先进先出法（FIFO）成本 - 先生产（购买）的产品的成本是先销售的产品\\n的成本。\\n后进先出法(LIFO)成本 - 后生产（购买）的产品的成本是先销售的产品的\\n成本。\\n加权平均法(Weighted Average)成本 - 使用可供销售的平均成本（BI +\\n生产），然后将成本分配给已售商品成本和期末库存。\\n规格标识(Specification Identification) - 将生产单个产品的实际成\\n本与产品的销售相匹配。（如:豪华车）'),\n",
       " Document(metadata={'producer': '', 'creator': 'WPS 文字', 'creationdate': '2024-03-18T10:27:16+02:27', 'author': 'office', 'comments': '', 'company': '', 'keywords': '', 'moddate': '2024-03-18T10:27:16+02:27', 'sourcemodified': \"D:20240318102716+02'27'\", 'subject': '', 'title': '', 'trapped': '/False', 'source': '/home/zzz/RAG_demo/datasets/test.pdf', 'total_pages': 17, 'page': 4, 'page_label': '5'}, page_content='美国通用会计准则下的库存成本流量假设\\n先进先出法；期末库存 (B/S) 反映当前成本，但销售成本 (I/S) 反\\n映过时成本。\\n后进先出法；销售成本 (I/S) 反映当前成本，但期末库存 (B/S) 反\\n映很久以前购买/生产的物品的成本。\\n平均成本法； 对销售成本 (I/S) 和期末库存 (B/S) 应用相同的平\\n均成本。\\n成本总是在先进先出法和后进先出法之间流动\\n成本或市场较低者 (LOCOM)； 如果期末库存的分配成本（先进先出、\\n后进先出、平均成本）大于库存的市场价值（重置成本），则期末库'),\n",
       " Document(metadata={'producer': '', 'creator': 'WPS 文字', 'creationdate': '2024-03-18T10:27:16+02:27', 'author': 'office', 'comments': '', 'company': '', 'keywords': '', 'moddate': '2024-03-18T10:27:16+02:27', 'sourcemodified': \"D:20240318102716+02'27'\", 'subject': '', 'title': '', 'trapped': '/False', 'source': '/home/zzz/RAG_demo/datasets/test.pdf', 'total_pages': 17, 'page': 4, 'page_label': '5'}, page_content='映很久以前购买/生产的物品的成本。\\n平均成本法； 对销售成本 (I/S) 和期末库存 (B/S) 应用相同的平\\n均成本。\\n成本总是在先进先出法和后进先出法之间流动\\n成本或市场较低者 (LOCOM)； 如果期末库存的分配成本（先进先出、\\n后进先出、平均成本）大于库存的市场价值（重置成本），则期末库\\n存必须记入市场。\\n影响：在损益财务报表影响：后进先出法与先进先出法表上记为（损\\n失），在资产负债表上记为库存减少'),\n",
       " Document(metadata={'producer': '', 'creator': 'WPS 文字', 'creationdate': '2024-03-18T10:27:16+02:27', 'author': 'office', 'comments': '', 'company': '', 'keywords': '', 'moddate': '2024-03-18T10:27:16+02:27', 'sourcemodified': \"D:20240318102716+02'27'\", 'subject': '', 'title': '', 'trapped': '/False', 'source': '/home/zzz/RAG_demo/datasets/test.pdf', 'total_pages': 17, 'page': 5, 'page_label': '6'}, page_content='财务报表影响：后进先出法与先进先出法\\n正常价格情况\\n后进先出法的结果： 先进先出法的结果：\\n- 销售成本较高 - 销售成本较低\\n- 毛利润较低 - 毛利润较高\\n- 税收较低 - 税收较高\\n- 净收入较低 - 净收入较高\\n- 库存余额较低 - 库存余额较高\\n- 营运资金较低 - 营运资金较高\\n- 税后现金流量较高 - 税后现金流量较低\\n如果价格下跌（通货紧缩情况），则后进先出法和先进先出法之间的\\n相反关系（如上）成立。'),\n",
       " Document(metadata={'producer': '', 'creator': 'WPS 文字', 'creationdate': '2024-03-18T10:27:16+02:27', 'author': 'office', 'comments': '', 'company': '', 'keywords': '', 'moddate': '2024-03-18T10:27:16+02:27', 'sourcemodified': \"D:20240318102716+02'27'\", 'subject': '', 'title': '', 'trapped': '/False', 'source': '/home/zzz/RAG_demo/datasets/test.pdf', 'total_pages': 17, 'page': 6, 'page_label': '7'}, page_content='库存示例：\\n期初库存 = 3 件 @ 20 美元 = 60 美元\\n购买量 = 4 件 @ 25 美元 = 100美元\\n= 3 件 @ 30 美元 = 90美元\\n待销商品 (GAS) = 10件 = 250 美元\\n销售额 = 9 件 @ 50 美元 = 450 美元\\n运营费用 = 150 美元\\n有效税率 = 30%\\n根据先进先出法、后进先出法和平均成本法计算期末库存、销售成本、\\n毛利润和净利润。'),\n",
       " Document(metadata={'producer': '', 'creator': 'WPS 文字', 'creationdate': '2024-03-18T10:27:16+02:27', 'author': 'office', 'comments': '', 'company': '', 'keywords': '', 'moddate': '2024-03-18T10:27:16+02:27', 'sourcemodified': \"D:20240318102716+02'27'\", 'subject': '', 'title': '', 'trapped': '/False', 'source': '/home/zzz/RAG_demo/datasets/test.pdf', 'total_pages': 17, 'page': 7, 'page_label': '8'}, page_content='示例（续）\\n在价格上涨的情况下： 先进先出法 后进先出法 平均成本法\\n销售额（9 件） $450 $450 $450\\n待销商品（10件） 250 250 250\\n- 期末库存 (1件) 30↑ 20↓ 25\\n= 销货成本 220↓ 230↑ 225\\n毛利润 230 220 225\\n- 运营费用 150 150 150\\n税前收入 80↑ 70↓ 75\\n- 税收 (30%) 24↑ 21↓ 22.50\\n净利润 56 49 52.50'),\n",
       " Document(metadata={'producer': '', 'creator': 'WPS 文字', 'creationdate': '2024-03-18T10:27:16+02:27', 'author': 'office', 'comments': '', 'company': '', 'keywords': '', 'moddate': '2024-03-18T10:27:16+02:27', 'sourcemodified': \"D:20240318102716+02'27'\", 'subject': '', 'title': '', 'trapped': '/False', 'source': '/home/zzz/RAG_demo/datasets/test.pdf', 'total_pages': 17, 'page': 8, 'page_label': '9'}, page_content='比率影响：后进先出法 vs.先进先出法/价格上涨\\n比率类别 先进先出法 后进先出法\\n所有利润率 较高 较低\\n资产回报率* 较高 较低\\n股本回报率* 较高 较低\\n流动比率 较高 较低\\n债务股本比 较低 较高\\n库存周转率 较低 较高 销货成本（较高）\\n库存（较低）\\n* 较高的净利润（分子）比较高的总资产或权益（分母）对该比率的\\n影响更大。\\n假设价格下降（通货紧缩），上述比率效应对于所有类别都将相反。'),\n",
       " Document(metadata={'producer': '', 'creator': 'WPS 文字', 'creationdate': '2024-03-18T10:27:16+02:27', 'author': 'office', 'comments': '', 'company': '', 'keywords': '', 'moddate': '2024-03-18T10:27:16+02:27', 'sourcemodified': \"D:20240318102716+02'27'\", 'subject': '', 'title': '', 'trapped': '/False', 'source': '/home/zzz/RAG_demo/datasets/test.pdf', 'total_pages': 17, 'page': 9, 'page_label': '10'}, page_content='后进先出清偿\\n\\uf06e 后进先出清算是指在一个会计期间内快速消耗库存而不进行重置。\\n\\uf06e 使较旧的过时成本与净销售额相匹配。\\n\\uf06e 它创造了暂时的（虚拟）毛利润增长。\\n\\uf06e 后进先出清算的影响是不可持续的。'),\n",
       " Document(metadata={'producer': '', 'creator': 'WPS 文字', 'creationdate': '2024-03-18T10:27:16+02:27', 'author': 'office', 'comments': '', 'company': '', 'keywords': '', 'moddate': '2024-03-18T10:27:16+02:27', 'sourcemodified': \"D:20240318102716+02'27'\", 'subject': '', 'title': '', 'trapped': '/False', 'source': '/home/zzz/RAG_demo/datasets/test.pdf', 'total_pages': 17, 'page': 10, 'page_label': '11'}, page_content='对财务报表分析的影响\\n\\uf06e 分析师对库存的经济价值和销售成本感兴趣。\\n资产债表 损益表\\n（先进先出法） （后进先出法）\\n\\uf06e 管理层对库存成本计算的选择可能会产生扭曲经济价值的财务报\\n表。\\n\\uf06e 财务报表分析试图消除这些扭曲，以确定公司的内在价值。\\n需要进行同类比较'),\n",
       " Document(metadata={'producer': '', 'creator': 'WPS 文字', 'creationdate': '2024-03-18T10:27:16+02:27', 'author': 'office', 'comments': '', 'company': '', 'keywords': '', 'moddate': '2024-03-18T10:27:16+02:27', 'sourcemodified': \"D:20240318102716+02'27'\", 'subject': '', 'title': '', 'trapped': '/False', 'source': '/home/zzz/RAG_demo/datasets/test.pdf', 'total_pages': 17, 'page': 11, 'page_label': '12'}, page_content='将后进先出法转换为先进先出法以进行比较\\n资产负债表：\\n先进先出法库存 = 后进先出法库存 + 期末后进先出法储备\\n（流动成本）\\n损益表：\\n（期末-期初）\\n先进先出法利润 = 后进先出法利润 +（后进先出法储备变化）X\\n(1 -税率）\\n先进先出法销货成本 = 后进先出法销货成本 - 后进先出法储备\\n变化'),\n",
       " Document(metadata={'producer': '', 'creator': 'WPS 文字', 'creationdate': '2024-03-18T10:27:16+02:27', 'author': 'office', 'comments': '', 'company': '', 'keywords': '', 'moddate': '2024-03-18T10:27:16+02:27', 'sourcemodified': \"D:20240318102716+02'27'\", 'subject': '', 'title': '', 'trapped': '/False', 'source': '/home/zzz/RAG_demo/datasets/test.pdf', 'total_pages': 17, 'page': 12, 'page_label': '13'}, page_content='调整库存 – 示例（A 部分）\\n年末后进先出法库存为 8,000 美元，年底后进先出法储备金为\\n3,000 美元，假设税率为 40%。\\n将后进先出法恢复为先进先出法需要对资产负债表进行以下调整：\\n1) 先进先出法库存的流动成本= 8,000 + 3,000= 11,000美元\\n后进先出法库存 后进先出储备\\n资产负债表条目将库存成本增加 3,000 美元，以获得流动库存成\\n本。\\n2) 增加的递延税负债 = 3,000 X 40% = 1,200美元'),\n",
       " Document(metadata={'producer': '', 'creator': 'WPS 文字', 'creationdate': '2024-03-18T10:27:16+02:27', 'author': 'office', 'comments': '', 'company': '', 'keywords': '', 'moddate': '2024-03-18T10:27:16+02:27', 'sourcemodified': \"D:20240318102716+02'27'\", 'subject': '', 'title': '', 'trapped': '/False', 'source': '/home/zzz/RAG_demo/datasets/test.pdf', 'total_pages': 17, 'page': 12, 'page_label': '13'}, page_content='1) 先进先出法库存的流动成本= 8,000 + 3,000= 11,000美元\\n后进先出法库存 后进先出储备\\n资产负债表条目将库存成本增加 3,000 美元，以获得流动库存成\\n本。\\n2) 增加的递延税负债 = 3,000 X 40% = 1,200美元\\n3) 增加的留存收益 = 3,000 X (1 - .40) = 1,800美元'),\n",
       " Document(metadata={'producer': '', 'creator': 'WPS 文字', 'creationdate': '2024-03-18T10:27:16+02:27', 'author': 'office', 'comments': '', 'company': '', 'keywords': '', 'moddate': '2024-03-18T10:27:16+02:27', 'sourcemodified': \"D:20240318102716+02'27'\", 'subject': '', 'title': '', 'trapped': '/False', 'source': '/home/zzz/RAG_demo/datasets/test.pdf', 'total_pages': 17, 'page': 13, 'page_label': '14'}, page_content='假想的日记账分录\\n借 贷\\n后进先出法储备 3,000美元\\n（存货）\\n递延税款 1,200美元\\n留存收益 1,800美元'),\n",
       " Document(metadata={'producer': '', 'creator': 'WPS 文字', 'creationdate': '2024-03-18T10:27:16+02:27', 'author': 'office', 'comments': '', 'company': '', 'keywords': '', 'moddate': '2024-03-18T10:27:16+02:27', 'sourcemodified': \"D:20240318102716+02'27'\", 'subject': '', 'title': '', 'trapped': '/False', 'source': '/home/zzz/RAG_demo/datasets/test.pdf', 'total_pages': 17, 'page': 14, 'page_label': '15'}, page_content='调整库存 – 示例（B 部分）\\n假设上一年的后进先出法储备金为2,000美元，今年的税后收入\\n是 800美元。\\n先进先出利润 = 后进先出利润 + (Δ后进先出储备) (1–税率)\\n期末后进先出法储备 3,000美元\\n减去：期初后进先出法储备 - 2,000\\n后进先出法储备变化 1,000美元\\n先进先出利润 = 800 + (1,000) X (1 - .40) = 1,400美元\\n后进先出 Δ后进先出 (1–税率)\\n利润 储备'),\n",
       " Document(metadata={'producer': '', 'creator': 'WPS 文字', 'creationdate': '2024-03-18T10:27:16+02:27', 'author': 'office', 'comments': '', 'company': '', 'keywords': '', 'moddate': '2024-03-18T10:27:16+02:27', 'sourcemodified': \"D:20240318102716+02'27'\", 'subject': '', 'title': '', 'trapped': '/False', 'source': '/home/zzz/RAG_demo/datasets/test.pdf', 'total_pages': 17, 'page': 15, 'page_label': '16'}, page_content='后进先出调整课堂练习\\nZeta 公司使用后进先出库存会计方法。20X4 年度财务报表脚注包\\n含截至12月31日的以下数据：\\n20X3 20X4\\n原材料 $ 392,675 $ 369,725\\n成品 401,325 377,075\\n先进先出法库存 $ 794,000 $ 746,800\\n后进先出储备 46,000 50,000\\n后进先出法库存 $ 748,000 $ 696,800\\n以下数据可用：\\n- 该公司的边际税率为35%。\\n- 20X4的销货成本为 3,800,000 美元。'),\n",
       " Document(metadata={'producer': '', 'creator': 'WPS 文字', 'creationdate': '2024-03-18T10:27:16+02:27', 'author': 'office', 'comments': '', 'company': '', 'keywords': '', 'moddate': '2024-03-18T10:27:16+02:27', 'sourcemodified': \"D:20240318102716+02'27'\", 'subject': '', 'title': '', 'trapped': '/False', 'source': '/home/zzz/RAG_demo/datasets/test.pdf', 'total_pages': 17, 'page': 15, 'page_label': '16'}, page_content='成品 401,325 377,075\\n先进先出法库存 $ 794,000 $ 746,800\\n后进先出储备 46,000 50,000\\n后进先出法库存 $ 748,000 $ 696,800\\n以下数据可用：\\n- 该公司的边际税率为35%。\\n- 20X4的销货成本为 3,800,000 美元。\\n- 20X4年的净收入为 340,000 美元。\\n- 20X4年股本回报率为 4.6%。\\na. 使用先进先出库存法，计算Zeta 公司20X4 年的净收入。\\nb. 按先进先出法和后进先出法计算公司的库存周转率。'),\n",
       " Document(metadata={'producer': '', 'creator': 'WPS 文字', 'creationdate': '2024-03-18T10:27:16+02:27', 'author': 'office', 'comments': '', 'company': '', 'keywords': '', 'moddate': '2024-03-18T10:27:16+02:27', 'sourcemodified': \"D:20240318102716+02'27'\", 'subject': '', 'title': '', 'trapped': '/False', 'source': '/home/zzz/RAG_demo/datasets/test.pdf', 'total_pages': 17, 'page': 15, 'page_label': '16'}, page_content='- 该公司的边际税率为35%。\\n- 20X4的销货成本为 3,800,000 美元。\\n- 20X4年的净收入为 340,000 美元。\\n- 20X4年股本回报率为 4.6%。\\na. 使用先进先出库存法，计算Zeta 公司20X4 年的净收入。\\nb. 按先进先出法和后进先出法计算公司的库存周转率。\\nC. 讨论 a 和 b 部分中所做的调整对财务分析师的有用性。\\n资料来源：White、Sondhai、Fried 财务报表分析'),\n",
       " Document(metadata={'producer': '', 'creator': 'WPS 文字', 'creationdate': '2024-03-18T10:27:16+02:27', 'author': 'office', 'comments': '', 'company': '', 'keywords': '', 'moddate': '2024-03-18T10:27:16+02:27', 'sourcemodified': \"D:20240318102716+02'27'\", 'subject': '', 'title': '', 'trapped': '/False', 'source': '/home/zzz/RAG_demo/datasets/test.pdf', 'total_pages': 17, 'page': 16, 'page_label': '17'}, page_content='后进先出调整课堂练习答案\\na. 先进先出法净收入 = 后进先出法净收入 +（后进先出法储备\\n变化）X（1-税率）\\n= 340,000 + 4,000 X .65 = 342,600 美元\\nb. 库存周转率 = 销货成本/平均库存\\n后进先出法：3,800,000 / (748,000 + 696,800) .5 = 5.26X\\n先进先出法：*3,796,000 / (794,000 + 746,800) .5 = 4.93X\\n*先进先出法销货成本 = 后进先出法销货成本 - 储备变化'),\n",
       " Document(metadata={'producer': '', 'creator': 'WPS 文字', 'creationdate': '2024-03-18T10:27:16+02:27', 'author': 'office', 'comments': '', 'company': '', 'keywords': '', 'moddate': '2024-03-18T10:27:16+02:27', 'sourcemodified': \"D:20240318102716+02'27'\", 'subject': '', 'title': '', 'trapped': '/False', 'source': '/home/zzz/RAG_demo/datasets/test.pdf', 'total_pages': 17, 'page': 16, 'page_label': '17'}, page_content='b. 库存周转率 = 销货成本/平均库存\\n后进先出法：3,800,000 / (748,000 + 696,800) .5 = 5.26X\\n先进先出法：*3,796,000 / (794,000 + 746,800) .5 = 4.93X\\n*先进先出法销货成本 = 后进先出法销货成本 - 储备变化\\n= 3,800,000 - 4,000 = 3,796,000美元\\nC. 为了对公司进行同类比较，分析师可以将后进先出法库存报\\n告转换为先进先出法库存报告。'),\n",
       " Document(metadata={'producer': '', 'creator': 'WPS 文字', 'creationdate': '2024-03-18T10:27:16+02:27', 'author': 'office', 'comments': '', 'company': '', 'keywords': '', 'moddate': '2024-03-18T10:27:16+02:27', 'sourcemodified': \"D:20240318102716+02'27'\", 'subject': '', 'title': '', 'trapped': '/False', 'source': '/home/zzz/RAG_demo/datasets/test.pdf', 'total_pages': 17, 'page': 16, 'page_label': '17'}, page_content='*先进先出法销货成本 = 后进先出法销货成本 - 储备变化\\n= 3,800,000 - 4,000 = 3,796,000美元\\nC. 为了对公司进行同类比较，分析师可以将后进先出法库存报\\n告转换为先进先出法库存报告。\\n当与使用先进先出法的竞争对手进行比较时，这种非通用会计准\\n则技术提供了公平的竞争环境，调整后的比率现在具有可比性。')]"
      ]
     },
     "execution_count": 23,
     "metadata": {},
     "output_type": "execute_result"
    }
   ],
   "source": [
    "@skip_execution(IS_SKIP)\n",
    "def test_chunk(data):\n",
    "    chunks = chunk_data(data) \n",
    "    print(\"chunks len:\",len(chunks))\n",
    "    return chunks\n",
    "    \n",
    "test_chunk(data)"
   ]
  }
 ],
 "metadata": {
  "kernelspec": {
   "display_name": "rag_py",
   "language": "python",
   "name": "python3"
  },
  "language_info": {
   "codemirror_mode": {
    "name": "ipython",
    "version": 3
   },
   "file_extension": ".py",
   "mimetype": "text/x-python",
   "name": "python",
   "nbconvert_exporter": "python",
   "pygments_lexer": "ipython3",
   "version": "3.10.18"
  }
 },
 "nbformat": 4,
 "nbformat_minor": 5
}
