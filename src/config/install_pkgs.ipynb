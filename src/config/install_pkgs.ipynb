{
 "cells": [
  {
   "cell_type": "code",
   "execution_count": null,
   "id": "12e1cbe8",
   "metadata": {},
   "outputs": [],
   "source": [
    "! pip install --quiet --upgrade langchain langchain-community  langchain-huggingface"
   ]
  },
  {
   "cell_type": "code",
   "execution_count": null,
   "id": "fb04e110",
   "metadata": {},
   "outputs": [],
   "source": [
    "! pip install  \"langchain-chroma>=0.1.2\""
   ]
  },
  {
   "cell_type": "code",
   "execution_count": null,
   "id": "518d24f7",
   "metadata": {},
   "outputs": [],
   "source": [
    "! pip install  langchain-milvus\n",
    "# ! pip uninstall -y pymilvus\n",
    "! pip install \"pymilvus<2.6\""
   ]
  },
  {
   "cell_type": "code",
   "execution_count": null,
   "id": "262a13be",
   "metadata": {},
   "outputs": [],
   "source": [
    "! pip install torch==2.6.0 vllm\n",
    "! pip install triton"
   ]
  },
  {
   "cell_type": "code",
   "execution_count": null,
   "id": "cbc33bbd",
   "metadata": {},
   "outputs": [],
   "source": [
    "import vllm\n",
    "\n",
    "print(vllm.__version__)"
   ]
  },
  {
   "cell_type": "code",
   "execution_count": null,
   "id": "c00a5715",
   "metadata": {},
   "outputs": [],
   "source": [
    "! pip install pypdf"
   ]
  },
  {
   "cell_type": "code",
   "execution_count": null,
   "id": "69ab4584",
   "metadata": {},
   "outputs": [],
   "source": [
    "! pip install torch==2.6.0 torchvision==0.21.0 torchaudio==2.6.0 --index-url https://download.pytorch.org/whl/cu124"
   ]
  },
  {
   "cell_type": "code",
   "execution_count": null,
   "id": "a4f35883",
   "metadata": {},
   "outputs": [],
   "source": [
    "! pip install ipywidgets"
   ]
  },
  {
   "cell_type": "code",
   "execution_count": null,
   "id": "28698976",
   "metadata": {},
   "outputs": [],
   "source": [
    "! pip install sentence_transformers"
   ]
  },
  {
   "cell_type": "code",
   "execution_count": null,
   "id": "e7af6f21",
   "metadata": {},
   "outputs": [],
   "source": [
    "! pip install streamlit"
   ]
  },
  {
   "cell_type": "code",
   "execution_count": null,
   "id": "7735a73a",
   "metadata": {},
   "outputs": [],
   "source": [
    "! pip  install numpy==1.26.4 faiss-gpu"
   ]
  },
  {
   "cell_type": "code",
   "execution_count": null,
   "id": "6bb8a2a4",
   "metadata": {},
   "outputs": [],
   "source": [
    "import faiss\n",
    "\n",
    "print(f\"FAISS 版本: {faiss.__version__}\")"
   ]
  }
 ],
 "metadata": {
  "kernelspec": {
   "display_name": "rag_py",
   "language": "python",
   "name": "python3"
  },
  "language_info": {
   "codemirror_mode": {
    "name": "ipython",
    "version": 3
   },
   "file_extension": ".py",
   "mimetype": "text/x-python",
   "name": "python",
   "nbconvert_exporter": "python",
   "pygments_lexer": "ipython3",
   "version": "3.10.18"
  }
 },
 "nbformat": 4,
 "nbformat_minor": 5
}
